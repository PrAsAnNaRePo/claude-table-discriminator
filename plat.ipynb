{
 "cells": [
  {
   "cell_type": "code",
   "execution_count": 1,
   "metadata": {},
   "outputs": [],
   "source": [
    "import anthropic\n",
    "import json\n",
    "import re\n",
    "import io\n",
    "import base64\n",
    "from dotenv import load_dotenv"
   ]
  },
  {
   "cell_type": "code",
   "execution_count": 2,
   "metadata": {},
   "outputs": [],
   "source": [
    "load_dotenv()\n",
    "\n",
    "data = json.load(open('data.json', 'r'))\n",
    "client = anthropic.Client()"
   ]
  },
  {
   "cell_type": "code",
   "execution_count": 6,
   "metadata": {},
   "outputs": [
    {
     "data": {
      "text/plain": [
       "509"
      ]
     },
     "execution_count": 6,
     "metadata": {},
     "output_type": "execute_result"
    }
   ],
   "source": [
    "len(data['image'])"
   ]
  },
  {
   "cell_type": "code",
   "execution_count": 2,
   "metadata": {},
   "outputs": [],
   "source": [
    "def extract_code(content):\n",
    "    code_blocks = re.findall(r'<final>\\n<table(.*?)</final>', content, re.DOTALL)\n",
    "    return code_blocks\n",
    "\n",
    "def extract_steps(content):\n",
    "    steps = re.findall(r'<step>(.*?)</step>', content, re.DOTALL)\n",
    "    return steps\n",
    "\n",
    "def extract_content(content):\n",
    "    mistakes = re.findall(r'<mistake>(.*?)</mistake>', content, re.DOTALL)\n",
    "    score = re.findall(r'<score>(.*?)</score>', content, re.DOTALL)\n",
    "\n",
    "    return mistakes, score"
   ]
  },
  {
   "cell_type": "code",
   "execution_count": 7,
   "metadata": {},
   "outputs": [
    {
     "data": {
      "text/plain": [
       "'<thinking>\\nLet\\'s approach this task step by step. We need to extract all the information from the image, including the main table and the metadata at the bottom. We\\'ll start by analyzing the structure and then create the HTML representation.\\n</thinking>\\n\\n<step>1. Analyze the table structure</step>\\n<thinking>\\nThe main table has 5 columns: NO, DESCRIPTION, MATERIAL, Q\\'TY, and REMARK.\\nThere are 19 rows of data plus a header row.\\nBelow the main table, there\\'s additional metadata that we need to include.\\n</thinking>\\n<count>19</count>\\n\\n<step>2. Start creating the HTML structure</step>\\n<thinking>\\nWe\\'ll use a single table tag to encapsulate all the information, including the metadata at the bottom. We\\'ll use thead for the header row and tbody for the main content and metadata.\\n</thinking>\\n<count>18</count>\\n\\n<step>3. Create the table header</step>\\n<thinking>\\nLet\\'s create the header row with the column names.\\n</thinking>\\n<count>17</count>\\n\\n<step>4. Add the main table content</step>\\n<thinking>\\nWe\\'ll add all 19 rows of the main table content.\\n</thinking>\\n<count>16</count>\\n\\n<step>5. Add the metadata</step>\\n<thinking>\\nWe\\'ll add the metadata at the bottom as additional rows in the table.\\n</thinking>\\n<count>15</count>\\n\\n<step>6. Review and finalize the HTML</step>\\n<thinking>\\nLet\\'s review the generated HTML to ensure all information is correctly captured and formatted.\\n</thinking>\\n<count>14</count>\\n\\n<reflection>\\nThe table structure has been accurately replicated, including all 19 rows of the main content and the metadata at the bottom. All columns and their contents have been preserved. The additional information such as \"CHECKED BY\", \"DRAWN BY\", etc., has been included as part of the table. The table looks complete and accurate.\\n</reflection>\\n\\n<reward>0.95</reward>\\n\\n<thinking>\\nGiven the high reward score, we can proceed with finalizing the HTML table.\\n</thinking>\\n\\n<final>\\n<table>\\n  <thead>\\n    <tr>\\n      <th>NO</th>\\n      <th>DESCRIPTION</th>\\n      <th>MATERIAL</th>\\n      <th>Q\\'TY</th>\\n      <th>REMARK</th>\\n    </tr>\\n  </thead>\\n  <tbody>\\n    <tr>\\n      <td>19</td>\\n      <td>SOLENOID CABLE TUBE</td>\\n      <td>AL.ALLOY</td>\\n      <td>1</td>\\n      <td></td>\\n    </tr>\\n    <tr>\\n      <td>18</td>\\n      <td>SOLENOID</td>\\n      <td></td>\\n      <td>1</td>\\n      <td></td>\\n    </tr>\\n    <tr>\\n      <td>17</td>\\n      <td>PARKING SENSOR</td>\\n      <td></td>\\n      <td>1</td>\\n      <td></td>\\n    </tr>\\n    <tr>\\n      <td>16</td>\\n      <td>IDLER PULLEY</td>\\n      <td>SUS 304</td>\\n      <td>1</td>\\n      <td></td>\\n    </tr>\\n    <tr>\\n      <td>15</td>\\n      <td>DRIVE PULLEY</td>\\n      <td>SUS 304</td>\\n      <td>1</td>\\n      <td></td>\\n    </tr>\\n    <tr>\\n      <td>14</td>\\n      <td>VEE BELT</td>\\n      <td></td>\\n      <td>1</td>\\n      <td></td>\\n    </tr>\\n    <tr>\\n      <td>13</td>\\n      <td>MOUNTING BOLT/NUT/W/S.W</td>\\n      <td>SUS 304</td>\\n      <td>5</td>\\n      <td>M10</td>\\n    </tr>\\n    <tr>\\n      <td>12</td>\\n      <td>CARRIAGE PLATE</td>\\n      <td>SUS 304</td>\\n      <td>3</td>\\n      <td></td>\\n    </tr>\\n    <tr>\\n      <td>11</td>\\n      <td>MOTOR HOUSING</td>\\n      <td>AL.ALLOY</td>\\n      <td>1</td>\\n      <td></td>\\n    </tr>\\n    <tr>\\n      <td>10</td>\\n      <td>MOTOR</td>\\n      <td></td>\\n      <td>1</td>\\n      <td></td>\\n    </tr>\\n    <tr>\\n      <td>9</td>\\n      <td>BLADE ATTACHMENT CLIP</td>\\n      <td>SUS 304</td>\\n      <td>2</td>\\n      <td>ELECTROLYTIC POLISHING</td>\\n    </tr>\\n    <tr>\\n      <td>8</td>\\n      <td>BLADE</td>\\n      <td>AL.ALLOY/NEOPRENE</td>\\n      <td>2</td>\\n      <td></td>\\n    </tr>\\n    <tr>\\n      <td>7</td>\\n      <td>ARM SPRING</td>\\n      <td>SUS 316</td>\\n      <td>4</td>\\n      <td></td>\\n    </tr>\\n    <tr>\\n      <td>6</td>\\n      <td>ARM ATTACHMENT PLATE</td>\\n      <td>SUS 304</td>\\n      <td>2</td>\\n      <td>ELECTROLYTIC POLISHING</td>\\n    </tr>\\n    <tr>\\n      <td>5</td>\\n      <td>BLADE ARM PLATE</td>\\n      <td>SUS 304</td>\\n      <td>2</td>\\n      <td>ELECTROLYTIC POLISHING</td>\\n    </tr>\\n    <tr>\\n      <td>4</td>\\n      <td>BLADE ARM</td>\\n      <td>SUS 304</td>\\n      <td>2</td>\\n      <td>ELECTROLYTIC POLISHING</td>\\n    </tr>\\n    <tr>\\n      <td>3</td>\\n      <td>HEATER</td>\\n      <td>SUS 316</td>\\n      <td>1</td>\\n      <td></td>\\n    </tr>\\n    <tr>\\n      <td>2</td>\\n      <td>FITTING PLATE</td>\\n      <td>AL.ALLOY</td>\\n      <td>3</td>\\n      <td>10T</td>\\n    </tr>\\n    <tr>\\n      <td>1</td>\\n      <td>CASING</td>\\n      <td>AL.ALLOY</td>\\n      <td>1</td>\\n      <td></td>\\n    </tr>\\n    <tr>\\n      <td colspan=\"2\">CHECKED BY</td>\\n      <td colspan=\"3\">T. H. KO</td>\\n    </tr>\\n    <tr>\\n      <td colspan=\"2\">DRAWN BY</td>\\n      <td colspan=\"3\">G. J. KIM</td>\\n    </tr>\\n    <tr>\\n      <td colspan=\"2\">DATE</td>\\n      <td colspan=\"3\">OCT. 04, 2022</td>\\n    </tr>\\n    <tr>\\n      <td colspan=\"2\">SCALE</td>\\n      <td colspan=\"3\">NONE</td>\\n    </tr>\\n    <tr>\\n      <td colspan=\"2\">DRAWING NO</td>\\n      <td colspan=\"3\">JG-S1940-W01</td>\\n    </tr>\\n    <tr>\\n      <td colspan=\"2\"></td>\\n      <td colspan=\"3\">WINDOW WIPER</td>\\n    </tr>\\n    <tr>\\n      <td colspan=\"2\"></td>\\n      <td colspan=\"3\">EXTERNAL MOTOR DRIVE</td>\\n    </tr>\\n    <tr>\\n      <td colspan=\"5\">JUNG GONG IND.CO.,LTD.</td>\\n    </tr>\\n  </tbody>\\n</table>\\n</final>\\n\\n<thinking>\\nThe HTML table has been created and enclosed in the <final> tags. It includes all the information from the image, including the main table content and the metadata at the bottom. The structure of the original table has been preserved, and all text has been accurately transcribed.\\n</thinking>'"
      ]
     },
     "execution_count": 7,
     "metadata": {},
     "output_type": "execute_result"
    }
   ],
   "source": [
    "idx = 500\n",
    "\n",
    "img = data['image'][idx]\n",
    "response = data['response'][idx]\n",
    "# tables = extract_code(response)"
   ]
  },
  {
   "cell_type": "code",
   "execution_count": 1,
   "metadata": {},
   "outputs": [],
   "source": [
    "res = \"<thinking>\\nI'll start by analyzing the image and breaking down the table structure. This appears to be a single table with metadata about an emergency towing arrangement. I'll extract the information step by step, ensuring all details are captured accurately.\\n</thinking>\\n\\n<step>1. Analyze the overall structure of the table and its contents.</step>\\n<count>19</count>\\n\\n<thinking>\\nThe image contains a single table with multiple rows and columns. It includes a title, model information, description, and additional details like drawing number, scale, and size. I'll start by creating the basic HTML structure for this table.\\n</thinking>\\n\\n<step>2. Create the basic HTML table structure.</step>\\n<count>18</count>\\n\\n<thinking>\\nI'll now populate the table with the information provided in the image, paying close attention to the layout and any specific formatting.\\n</thinking>\\n\\n<step>3. Add the title row.</step>\\n<count>17</count>\\n\\n<step>4. Add the model and description rows.</step>\\n<count>16</count>\\n\\n<step>5. Add the drawing number, scale, and size information.</step>\\n<count>15</count>\\n\\n<thinking>\\nNow that I've added all the visible information, I'll review the table to ensure accuracy and completeness.\\n</thinking>\\n\\n<step>6. Review and finalize the HTML table.</step>\\n<count>14</count>\\n\\n<reflection>\\nI've successfully extracted all the information from the image and created an HTML table representation. The table includes the title, model information, description, drawing number, scale, and size. I've also captured the \\\"TKT TANKTECH\\\" logo mention. The structure accurately reflects the original image.\\n</reflection>\\n\\n<reward>0.95</reward>\\n\\n<thinking>\\nGiven the high reward score, I'm confident in the accuracy and completeness of the extracted table. I'll now present the final HTML table within the <final> tags.\\n</thinking>\\n\\n<final>\\n<table>\\n  <tr>\\n    <td colspan=\\\"3\\\">TITLE</td>\\n  </tr>\\n  <tr>\\n    <td colspan=\\\"3\\\"><strong>EMERGENCY TOWING ARRANGEMENT</strong></td>\\n  </tr>\\n  <tr>\\n    <td>MODEL</td>\\n    <td colspan=\\\"2\\\">DESCRIPTION</td>\\n  </tr>\\n  <tr>\\n    <td>KETSP-40A<br>(FOR AFT. OF SHIP)</td>\\n    <td colspan=\\\"2\\\">GENERAL ARRANGEMENT</td>\\n  </tr>\\n  <tr>\\n    <td rowspan=\\\"2\\\">TKT TANKTECH<br>[image here]</td>\\n    <td>DRAWING NO.</td>\\n    <td>KETSP-AR-200</td>\\n  </tr>\\n  <tr>\\n    <td>SCALE</td>\\n    <td>SIZE</td>\\n    <td>V.P.NO.</td>\\n  </tr>\\n  <tr>\\n    <td>1/50</td>\\n    <td>A4</td>\\n    <td>A00000</td>\\n  </tr>\\n</table>\\n</final>\""
   ]
  },
  {
   "cell_type": "code",
   "execution_count": 5,
   "metadata": {},
   "outputs": [
    {
     "data": {
      "text/plain": [
       "['>\\n  <tr>\\n    <td colspan=\"3\">TITLE</td>\\n  </tr>\\n  <tr>\\n    <td colspan=\"3\"><strong>EMERGENCY TOWING ARRANGEMENT</strong></td>\\n  </tr>\\n  <tr>\\n    <td>MODEL</td>\\n    <td colspan=\"2\">DESCRIPTION</td>\\n  </tr>\\n  <tr>\\n    <td>KETSP-40A<br>(FOR AFT. OF SHIP)</td>\\n    <td colspan=\"2\">GENERAL ARRANGEMENT</td>\\n  </tr>\\n  <tr>\\n    <td rowspan=\"2\">TKT TANKTECH<br>[image here]</td>\\n    <td>DRAWING NO.</td>\\n    <td>KETSP-AR-200</td>\\n  </tr>\\n  <tr>\\n    <td>SCALE</td>\\n    <td>SIZE</td>\\n    <td>V.P.NO.</td>\\n  </tr>\\n  <tr>\\n    <td>1/50</td>\\n    <td>A4</td>\\n    <td>A00000</td>\\n  </tr>\\n</table>\\n']"
      ]
     },
     "execution_count": 5,
     "metadata": {},
     "output_type": "execute_result"
    }
   ],
   "source": [
    "import re\n",
    "\n",
    "extract_code(res)"
   ]
  }
 ],
 "metadata": {
  "kernelspec": {
   "display_name": "Python 3",
   "language": "python",
   "name": "python3"
  },
  "language_info": {
   "codemirror_mode": {
    "name": "ipython",
    "version": 3
   },
   "file_extension": ".py",
   "mimetype": "text/x-python",
   "name": "python",
   "nbconvert_exporter": "python",
   "pygments_lexer": "ipython3",
   "version": "3.10.15"
  }
 },
 "nbformat": 4,
 "nbformat_minor": 2
}
